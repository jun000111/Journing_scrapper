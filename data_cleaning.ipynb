{
 "cells": [
  {
   "cell_type": "code",
   "execution_count": 20,
   "metadata": {},
   "outputs": [],
   "source": [
    "from scrapper.helper import clean_up_n_save_new_csv\n",
    "from scrapper.helper import concat_n_del\n",
    "from scrapper.helper import add_uuid\n",
    "import pandas as pd\n",
    "import glob\n",
    "import os\n",
    "import uuid\n",
    "from requests_html import HTMLSession,user_agent\n",
    "import numpy as np\n",
    "from unidecode import unidecode\n",
    "from slugify import slugify"
   ]
  },
  {
   "cell_type": "code",
   "execution_count": 21,
   "metadata": {},
   "outputs": [],
   "source": [
    "file = pd.read_csv('csv/cities_n_links.csv')\n",
    "file2 = pd.read_csv('csv/shopping_all.csv')"
   ]
  },
  {
   "cell_type": "code",
   "execution_count": 22,
   "metadata": {},
   "outputs": [
    {
     "data": {
      "text/html": [
       "<div>\n",
       "<style scoped>\n",
       "    .dataframe tbody tr th:only-of-type {\n",
       "        vertical-align: middle;\n",
       "    }\n",
       "\n",
       "    .dataframe tbody tr th {\n",
       "        vertical-align: top;\n",
       "    }\n",
       "\n",
       "    .dataframe thead th {\n",
       "        text-align: right;\n",
       "    }\n",
       "</style>\n",
       "<table border=\"1\" class=\"dataframe\">\n",
       "  <thead>\n",
       "    <tr style=\"text-align: right;\">\n",
       "      <th></th>\n",
       "      <th>city</th>\n",
       "      <th>links</th>\n",
       "      <th>img</th>\n",
       "      <th>img_local</th>\n",
       "      <th>slug</th>\n",
       "    </tr>\n",
       "  </thead>\n",
       "  <tbody>\n",
       "    <tr>\n",
       "      <th>0</th>\n",
       "      <td>上海</td>\n",
       "      <td>https://you.ctrip.com/place/shanghai2.html</td>\n",
       "      <td>https://youimg1.c-ctrip.com/target/100e0h00000...</td>\n",
       "      <td>100e0h0000008rp39A12F_C_1180_462.jpg</td>\n",
       "      <td>shang-hai</td>\n",
       "    </tr>\n",
       "    <tr>\n",
       "      <th>1</th>\n",
       "      <td>北京</td>\n",
       "      <td>https://you.ctrip.com/place/beijing1.html</td>\n",
       "      <td>https://youimg1.c-ctrip.com/target/100a0g00000...</td>\n",
       "      <td>100a0g00000087qb8E7CE_C_1180_462.jpg</td>\n",
       "      <td>bei-jing</td>\n",
       "    </tr>\n",
       "    <tr>\n",
       "      <th>2</th>\n",
       "      <td>天津</td>\n",
       "      <td>https://you.ctrip.com/place/tianjin154.html</td>\n",
       "      <td>https://youimg1.c-ctrip.com/target/100n1c00000...</td>\n",
       "      <td>100n1c000001d5zaf9BCE_C_1180_462.jpg</td>\n",
       "      <td>tian-jin</td>\n",
       "    </tr>\n",
       "    <tr>\n",
       "      <th>3</th>\n",
       "      <td>重庆</td>\n",
       "      <td>https://you.ctrip.com/place/chongqing158.html</td>\n",
       "      <td>https://youimg1.c-ctrip.com/target/100u1c00000...</td>\n",
       "      <td>100u1c000001dbc8s0A2E_C_1180_462.jpg</td>\n",
       "      <td>zhong-qing</td>\n",
       "    </tr>\n",
       "    <tr>\n",
       "      <th>4</th>\n",
       "      <td>香港</td>\n",
       "      <td>https://you.ctrip.com/place/hongkong38.html</td>\n",
       "      <td>https://youimg1.c-ctrip.com/target/0101k12000a...</td>\n",
       "      <td>0101k12000admkld4652D_C_1180_462.jpg</td>\n",
       "      <td>xiang-gang</td>\n",
       "    </tr>\n",
       "  </tbody>\n",
       "</table>\n",
       "</div>"
      ],
      "text/plain": [
       "  city                                          links  \\\n",
       "0   上海     https://you.ctrip.com/place/shanghai2.html   \n",
       "1   北京      https://you.ctrip.com/place/beijing1.html   \n",
       "2   天津    https://you.ctrip.com/place/tianjin154.html   \n",
       "3   重庆  https://you.ctrip.com/place/chongqing158.html   \n",
       "4   香港    https://you.ctrip.com/place/hongkong38.html   \n",
       "\n",
       "                                                 img  \\\n",
       "0  https://youimg1.c-ctrip.com/target/100e0h00000...   \n",
       "1  https://youimg1.c-ctrip.com/target/100a0g00000...   \n",
       "2  https://youimg1.c-ctrip.com/target/100n1c00000...   \n",
       "3  https://youimg1.c-ctrip.com/target/100u1c00000...   \n",
       "4  https://youimg1.c-ctrip.com/target/0101k12000a...   \n",
       "\n",
       "                              img_local        slug  \n",
       "0  100e0h0000008rp39A12F_C_1180_462.jpg   shang-hai  \n",
       "1  100a0g00000087qb8E7CE_C_1180_462.jpg    bei-jing  \n",
       "2  100n1c000001d5zaf9BCE_C_1180_462.jpg    tian-jin  \n",
       "3  100u1c000001dbc8s0A2E_C_1180_462.jpg  zhong-qing  \n",
       "4  0101k12000admkld4652D_C_1180_462.jpg  xiang-gang  "
      ]
     },
     "execution_count": 22,
     "metadata": {},
     "output_type": "execute_result"
    }
   ],
   "source": [
    "file.head()"
   ]
  },
  {
   "cell_type": "code",
   "execution_count": 23,
   "metadata": {},
   "outputs": [],
   "source": [
    "cities = ['上海','北京','新加坡']"
   ]
  },
  {
   "cell_type": "code",
   "execution_count": 24,
   "metadata": {},
   "outputs": [],
   "source": [
    "# selected = file[file['city'].isin(cities)]"
   ]
  },
  {
   "cell_type": "code",
   "execution_count": 27,
   "metadata": {},
   "outputs": [],
   "source": [
    "selected_shops = file2[file2['places'].isin(cities)]"
   ]
  },
  {
   "cell_type": "code",
   "execution_count": 32,
   "metadata": {},
   "outputs": [],
   "source": [
    "selected_shops.to_csv('csv/selected_shops.csv',index=False)"
   ]
  }
 ],
 "metadata": {
  "kernelspec": {
   "display_name": "web",
   "language": "python",
   "name": "python3"
  },
  "language_info": {
   "codemirror_mode": {
    "name": "ipython",
    "version": 3
   },
   "file_extension": ".py",
   "mimetype": "text/x-python",
   "name": "python",
   "nbconvert_exporter": "python",
   "pygments_lexer": "ipython3",
   "version": "3.9.9"
  },
  "orig_nbformat": 4
 },
 "nbformat": 4,
 "nbformat_minor": 2
}
